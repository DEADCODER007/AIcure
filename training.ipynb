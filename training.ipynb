{
 "cells": [
  {
   "cell_type": "code",
   "execution_count": 1,
   "metadata": {},
   "outputs": [],
   "source": [
    "import pandas as pd\n",
    "import numpy as np\n",
    "from sklearn.preprocessing import MinMaxScaler\n",
    "from sklearn.model_selection import train_test_split\n",
    "from keras.models import Sequential\n",
    "from keras.layers import LSTM, Dense\n",
    "from keras.losses import MeanSquaredError\n",
    "import pickle\n",
    "import json\n",
    "import matplotlib.pyplot as plt\n"
   ]
  },
  {
   "cell_type": "code",
   "execution_count": 2,
   "metadata": {},
   "outputs": [],
   "source": [
    "# Load the training data\n",
    "df = pd.read_csv(\"train_data.csv\")\n",
    "\n",
    "# Drop unnecessary columns\n",
    "df_numeric = df.select_dtypes(exclude=['object'])\n",
    "column_to_drop = 'datasetId'\n",
    "df.drop(column_to_drop, axis=1, inplace=True)"
   ]
  },
  {
   "cell_type": "code",
   "execution_count": 3,
   "metadata": {},
   "outputs": [],
   "source": [
    "# Calculate the correlation matrix\n",
    "correlation_matrix = df_numeric.corr()"
   ]
  },
  {
   "cell_type": "code",
   "execution_count": 4,
   "metadata": {},
   "outputs": [],
   "source": [
    "# Select the target variable 'HR'\n",
    "target_column = 'HR'\n",
    "\n",
    "# Specify the columns to scale\n",
    "columns_to_scale = ['MEAN_RR', 'MEDIAN_RR', 'LF_NU', 'HF_NU', 'HF_LF', 'SDRR_RMSSD_REL_RR', 'HF_PCT', 'HF', 'SDSD_REL_RR', 'RMSSD_REL_RR', 'higuci', 'LF_HF', 'VLF', 'TP', 'sampen', 'SKEW', 'SKEW_REL_RR']\n",
    "\n",
    "# Standard Scaling\n",
    "standard_scaler = MinMaxScaler()\n",
    "df_numeric[columns_to_scale] = standard_scaler.fit_transform(df_numeric[columns_to_scale])\n"
   ]
  },
  {
   "cell_type": "code",
   "execution_count": 5,
   "metadata": {},
   "outputs": [],
   "source": [
    "# Specify features (X) and target variable (y)\n",
    "X = df_numeric[columns_to_scale]\n",
    "y = df_numeric['HR']\n",
    "\n",
    "# Split the data into training and testing sets\n",
    "X_train, X_test, y_train, y_test = train_test_split(X, y, test_size=0.2, random_state=42)\n"
   ]
  },
  {
   "cell_type": "code",
   "execution_count": 8,
   "metadata": {},
   "outputs": [
    {
     "name": "stdout",
     "output_type": "stream",
     "text": [
      "Epoch 1/50\n",
      "800/800 [==============================] - 7s 6ms/step - loss: 2450.7041 - val_loss: 947.9650\n",
      "Epoch 2/50\n",
      "800/800 [==============================] - 4s 5ms/step - loss: 483.2601 - val_loss: 179.1306\n",
      "Epoch 3/50\n",
      "800/800 [==============================] - 4s 5ms/step - loss: 138.2396 - val_loss: 108.1583\n",
      "Epoch 4/50\n",
      "800/800 [==============================] - 4s 5ms/step - loss: 112.0098 - val_loss: 108.0806\n",
      "Epoch 5/50\n",
      "800/800 [==============================] - 4s 5ms/step - loss: 111.4625 - val_loss: 108.4989\n",
      "Epoch 6/50\n",
      "800/800 [==============================] - 4s 5ms/step - loss: 111.4892 - val_loss: 108.2009\n",
      "Epoch 7/50\n",
      "800/800 [==============================] - 4s 5ms/step - loss: 111.5274 - val_loss: 108.8263\n",
      "Epoch 8/50\n",
      "800/800 [==============================] - 4s 5ms/step - loss: 111.5821 - val_loss: 108.4923\n",
      "Epoch 9/50\n",
      "800/800 [==============================] - 4s 5ms/step - loss: 111.5497 - val_loss: 108.1682\n",
      "Epoch 10/50\n",
      "800/800 [==============================] - 4s 5ms/step - loss: 111.4179 - val_loss: 108.6817\n",
      "Epoch 11/50\n",
      "800/800 [==============================] - 11s 14ms/step - loss: 111.5502 - val_loss: 108.5379\n",
      "Epoch 12/50\n",
      "800/800 [==============================] - 13s 16ms/step - loss: 111.4708 - val_loss: 108.5613\n",
      "Epoch 13/50\n",
      "800/800 [==============================] - 4s 5ms/step - loss: 111.4584 - val_loss: 107.6379\n",
      "Epoch 14/50\n",
      "800/800 [==============================] - 4s 5ms/step - loss: 111.5051 - val_loss: 108.5197\n",
      "Epoch 15/50\n",
      "800/800 [==============================] - 4s 5ms/step - loss: 111.5397 - val_loss: 108.2106\n",
      "Epoch 16/50\n",
      "800/800 [==============================] - 4s 5ms/step - loss: 111.4199 - val_loss: 108.9094\n",
      "Epoch 17/50\n",
      "800/800 [==============================] - 4s 5ms/step - loss: 110.9729 - val_loss: 107.3092\n",
      "Epoch 18/50\n",
      "800/800 [==============================] - 4s 5ms/step - loss: 110.1620 - val_loss: 107.5484\n",
      "Epoch 19/50\n",
      "800/800 [==============================] - 4s 5ms/step - loss: 109.2684 - val_loss: 105.4116\n",
      "Epoch 20/50\n",
      "800/800 [==============================] - 4s 5ms/step - loss: 108.0782 - val_loss: 105.1216\n",
      "Epoch 21/50\n",
      "800/800 [==============================] - 4s 5ms/step - loss: 107.2226 - val_loss: 104.0536\n",
      "Epoch 22/50\n",
      "800/800 [==============================] - 4s 5ms/step - loss: 105.9765 - val_loss: 105.6729\n",
      "Epoch 23/50\n",
      "800/800 [==============================] - 4s 4ms/step - loss: 103.5805 - val_loss: 98.9136\n",
      "Epoch 24/50\n",
      "800/800 [==============================] - 4s 5ms/step - loss: 92.7479 - val_loss: 65.3331\n",
      "Epoch 25/50\n",
      "800/800 [==============================] - 4s 5ms/step - loss: 18.3621 - val_loss: 8.8822\n",
      "Epoch 26/50\n",
      "800/800 [==============================] - 4s 5ms/step - loss: 7.5550 - val_loss: 5.6884\n",
      "Epoch 27/50\n",
      "800/800 [==============================] - 4s 5ms/step - loss: 5.6264 - val_loss: 4.6126\n",
      "Epoch 28/50\n",
      "800/800 [==============================] - 4s 5ms/step - loss: 4.9883 - val_loss: 4.1629\n",
      "Epoch 29/50\n",
      "800/800 [==============================] - 4s 5ms/step - loss: 4.1716 - val_loss: 3.9551\n",
      "Epoch 30/50\n",
      "800/800 [==============================] - 4s 5ms/step - loss: 4.0496 - val_loss: 4.7789\n",
      "Epoch 31/50\n",
      "800/800 [==============================] - 4s 5ms/step - loss: 3.6427 - val_loss: 3.1287\n",
      "Epoch 32/50\n",
      "800/800 [==============================] - 4s 5ms/step - loss: 3.5055 - val_loss: 2.9599\n",
      "Epoch 33/50\n",
      "800/800 [==============================] - 4s 5ms/step - loss: 3.4878 - val_loss: 3.6112\n",
      "Epoch 34/50\n",
      "800/800 [==============================] - 4s 5ms/step - loss: 3.4913 - val_loss: 2.9130\n",
      "Epoch 35/50\n",
      "800/800 [==============================] - 4s 5ms/step - loss: 3.0814 - val_loss: 3.2617\n",
      "Epoch 36/50\n",
      "800/800 [==============================] - 4s 5ms/step - loss: 2.9463 - val_loss: 2.7579\n",
      "Epoch 37/50\n",
      "800/800 [==============================] - 4s 5ms/step - loss: 2.8932 - val_loss: 3.6469\n",
      "Epoch 38/50\n",
      "800/800 [==============================] - 4s 5ms/step - loss: 2.6803 - val_loss: 2.3190\n",
      "Epoch 39/50\n",
      "800/800 [==============================] - 4s 5ms/step - loss: 2.7307 - val_loss: 3.0573\n",
      "Epoch 40/50\n",
      "800/800 [==============================] - 4s 5ms/step - loss: 2.5022 - val_loss: 2.1868\n",
      "Epoch 41/50\n",
      "800/800 [==============================] - 4s 5ms/step - loss: 2.5198 - val_loss: 2.0741\n",
      "Epoch 42/50\n",
      "800/800 [==============================] - 4s 5ms/step - loss: 2.2890 - val_loss: 1.7645\n",
      "Epoch 43/50\n",
      "800/800 [==============================] - 4s 5ms/step - loss: 2.2609 - val_loss: 1.7575\n",
      "Epoch 44/50\n",
      "800/800 [==============================] - 4s 5ms/step - loss: 2.2574 - val_loss: 1.6116\n",
      "Epoch 45/50\n",
      "800/800 [==============================] - 4s 5ms/step - loss: 2.2056 - val_loss: 2.1660\n",
      "Epoch 46/50\n",
      "800/800 [==============================] - 4s 5ms/step - loss: 2.1150 - val_loss: 1.6667\n",
      "Epoch 47/50\n",
      "800/800 [==============================] - 4s 5ms/step - loss: 2.0348 - val_loss: 1.6947\n",
      "Epoch 48/50\n",
      "800/800 [==============================] - 4s 5ms/step - loss: 1.9646 - val_loss: 1.7672\n",
      "Epoch 49/50\n",
      "800/800 [==============================] - 4s 5ms/step - loss: 1.9517 - val_loss: 1.8784\n",
      "Epoch 50/50\n",
      "800/800 [==============================] - 4s 5ms/step - loss: 1.8620 - val_loss: 1.8251\n"
     ]
    }
   ],
   "source": [
    "# Build the LSTM model\n",
    "model = Sequential()\n",
    "model.add(LSTM(50, input_shape=(X_train.shape[1], 1)))\n",
    "model.add(Dense(1))\n",
    "model.compile(optimizer='adam', loss=MeanSquaredError())\n",
    "\n",
    "# Train the model\n",
    "history = model.fit(X_train, y_train, epochs=50, batch_size=5, verbose=1, validation_data=(X_test, y_test))\n"
   ]
  },
  {
   "cell_type": "code",
   "execution_count": 9,
   "metadata": {},
   "outputs": [
    {
     "name": "stderr",
     "output_type": "stream",
     "text": [
      "WARNING:absl:Found untraced functions such as lstm_cell_2_layer_call_fn, lstm_cell_2_layer_call_and_return_conditional_losses while saving (showing 2 of 2). These functions will not be directly callable after loading.\n"
     ]
    },
    {
     "name": "stdout",
     "output_type": "stream",
     "text": [
      "INFO:tensorflow:Assets written to: ram://0bdee4b8-1092-45d4-9976-c5d1b163050f/assets\n"
     ]
    },
    {
     "name": "stderr",
     "output_type": "stream",
     "text": [
      "INFO:tensorflow:Assets written to: ram://0bdee4b8-1092-45d4-9976-c5d1b163050f/assets\n"
     ]
    }
   ],
   "source": [
    "# Save the trained model\n",
    "model.save('model.h5')\n",
    "\n",
    "# Serialize the model using pickle (optional)\n",
    "model_bytes = pickle.dumps(model)\n",
    "\n",
    "# Save the serialized model to a JSON file (optional)\n",
    "with open('model.json', 'w') as json_file:\n",
    "    json.dump({'model': model_bytes.decode('latin-1')}, json_file)\n",
    "\n",
    "# Save the scaler parameters\n",
    "scaler_params = {'min_': standard_scaler.min_, 'scale_': standard_scaler.scale_}\n",
    "with open('scaler_params.pkl', 'wb') as scaler_file:\n",
    "    pickle.dump(scaler_params, scaler_file)\n"
   ]
  },
  {
   "cell_type": "code",
   "execution_count": 10,
   "metadata": {},
   "outputs": [
    {
     "data": {
      "image/png": "[encoded data removed]",
      "text/plain": [
       "<Figure size 640x480 with 1 Axes>"
      ]
     },
     "metadata": {},
     "output_type": "display_data"
    }
   ],
   "source": [
    "# Plot the training loss and validation loss\n",
    "plt.plot(history.history['loss'], label='Train Loss')\n",
    "plt.plot(history.history['val_loss'], label='Validation Loss')\n",
    "plt.xlabel('Epochs')\n",
    "plt.ylabel('Loss')\n",
    "plt.legend()\n",
    "plt.show()"
   ]
  },
  {
   "cell_type": "code",
   "execution_count": 11,
   "metadata": {},
   "outputs": [
    {
     "name": "stdout",
     "output_type": "stream",
     "text": [
      "125/125 [==============================] - 2s 4ms/step\n",
      "Predictions on Training Data:\n",
      "[[ 65.01834 ]\n",
      " [105.765526]\n",
      " [ 65.75391 ]\n",
      " [ 78.510185]\n",
      " [ 82.85095 ]]\n"
     ]
    }
   ],
   "source": [
    "\n",
    "# Predict on the training data\n",
    "predictions_train = model.predict(X_train)\n",
    "# Print the first few predictions on training data\n",
    "print(\"Predictions on Training Data:\")\n",
    "print(predictions_train[:5])"
   ]
  },
  {
   "cell_type": "code",
   "execution_count": 12,
   "metadata": {},
   "outputs": [
    {
     "name": "stdout",
     "output_type": "stream",
     "text": [
      "125/125 [==============================] - 0s 3ms/step\n",
      "32/32 [==============================] - 1s 4ms/step\n",
      "RMSE for Training Data: 1.359976877594817\n",
      "RMSE for Test Data: 1.3509624942591867\n"
     ]
    }
   ],
   "source": [
    "from sklearn.metrics import mean_squared_error\n",
    "\n",
    "# Predict on the training data\n",
    "predictions_train = model.predict(X_train)\n",
    "\n",
    "# Predict on the test data\n",
    "predictions_test = model.predict(X_test)\n",
    "\n",
    "# Calculate RMSE for training data\n",
    "rmse_train = np.sqrt(mean_squared_error(y_train, predictions_train))\n",
    "\n",
    "# Calculate RMSE for test data\n",
    "rmse_test = np.sqrt(mean_squared_error(y_test, predictions_test))\n",
    "\n",
    "print(f\"RMSE for Training Data: {rmse_train}\")\n",
    "print(f\"RMSE for Test Data: {rmse_test}\")\n"
   ]
  }
 ],
 "metadata": {
  "kernelspec": {
   "display_name": "py310",
   "language": "python",
   "name": "python3"
  },
  "language_info": {
   "codemirror_mode": {
    "name": "ipython",
    "version": 3
   },
   "file_extension": ".py",
   "mimetype": "text/x-python",
   "name": "python",
   "nbconvert_exporter": "python",
   "pygments_lexer": "ipython3",
   "version": "3.10.13"
  }
 },
 "nbformat": 4,
 "nbformat_minor": 2
}
