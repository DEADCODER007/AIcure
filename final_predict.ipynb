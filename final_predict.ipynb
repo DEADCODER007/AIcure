{
 "cells": [
  {
   "cell_type": "code",
   "execution_count": 4,
   "metadata": {},
   "outputs": [
    {
     "name": "stderr",
     "output_type": "stream",
     "text": [
      "c:\\Users\\Dell\\anaconda3_original\\envs\\py310\\lib\\site-packages\\sklearn\\base.py:457: UserWarning: X has feature names, but MinMaxScaler was fitted without feature names\n",
      "  warnings.warn(\n"
     ]
    },
    {
     "name": "stdout",
     "output_type": "stream",
     "text": [
      "1/1 [==============================] - 1s 745ms/step\n",
      "Predictions on Test Data:\n",
      "                                   uuid  predictions\n",
      "0  1ae30e0b-098e-46fc-a897-0a6661f26370    75.252983\n",
      "1  428b41b3-9461-4c79-ab4e-d03b122b2553    81.012993\n",
      "2  88f82ac7-02dd-447e-a289-22e8e22432c2    63.571381\n",
      "3  1d09b18f-d82f-4c1a-bb2d-71fda6fea837    66.546227\n",
      "4  a6302640-f70a-4a3a-ad36-a8c3d5df9400    65.667717\n",
      "5  3f6508be-4b0a-4008-b701-49d8c2d5dd43    57.519295\n",
      "6  a07d84c8-fc44-45ef-bb85-f06f06b70e9f    73.164726\n",
      "7  f4a449db-a7ff-437b-852b-821a6e965f2f    63.505524\n",
      "8  94364ef1-12e2-4ddd-9f35-99e270547849    57.943321\n",
      "9  231d34f5-1028-4f2e-8e1d-00d086b0c218    71.137177\n"
     ]
    }
   ],
   "source": [
    "import pandas as pd\n",
    "import numpy as np\n",
    "from sklearn.preprocessing import MinMaxScaler\n",
    "from keras.models import load_model\n",
    "import pickle\n",
    "\n",
    "# Load the test data\n",
    "test_data = pd.read_csv(\"sample_test_data.csv\")##YOU CAN PROVIDE UR TEST DATASET HERE\n",
    "\n",
    "# Drop unnecessary columns (similar to what you did in the training file)\n",
    "column_to_drop = 'datasetId'\n",
    "test_data.drop(column_to_drop, axis=1, inplace=True)\n",
    "\n",
    "# Load the trained model\n",
    "loaded_model = load_model('model.h5')\n",
    "\n",
    "# Load the scaler parameters\n",
    "scaler_params_path = 'scaler_params.pkl'\n",
    "with open(scaler_params_path, 'rb') as scaler_file:\n",
    "    scaler_params = pickle.load(scaler_file)\n",
    "\n",
    "# Set up the scaler\n",
    "standard_scaler = MinMaxScaler()\n",
    "standard_scaler.min_, standard_scaler.scale_ = scaler_params['min_'], scaler_params['scale_']\n",
    "\n",
    "# Preprocess the test input data\n",
    "test_data_numeric = test_data.select_dtypes(exclude=['object'])\n",
    "columns_to_scale = ['MEAN_RR', 'MEDIAN_RR', 'LF_NU', 'HF_NU', 'HF_LF', 'SDRR_RMSSD_REL_RR', 'HF_PCT', 'HF', 'SDSD_REL_RR', 'RMSSD_REL_RR', 'higuci', 'LF_HF', 'VLF', 'TP', 'sampen', 'SKEW', 'SKEW_REL_RR']\n",
    "test_data_numeric[columns_to_scale] = standard_scaler.transform(test_data_numeric[columns_to_scale])\n",
    "\n",
    "# Specify the features for prediction\n",
    "X_test = test_data_numeric[columns_to_scale]\n",
    "\n",
    "# Reshape the input data to match the model's input shape\n",
    "X_test_reshaped = X_test.values.reshape((X_test.shape[0], X_test.shape[1], 1))\n",
    "\n",
    "# Make predictions on the test data\n",
    "predictions_test = loaded_model.predict(X_test_reshaped)\n",
    "\n",
    "# Add 'uuid' and corresponding predictions to a new DataFrame\n",
    "predictions_df = pd.DataFrame({'uuid': test_data['uuid'], 'predictions': predictions_test.flatten()})\n",
    "\n",
    "# Print the first few rows of the predictions DataFrame\n",
    "print(\"Predictions on Test Data:\")\n",
    "print(predictions_df.head(10))\n"
   ]
  },
  {
   "cell_type": "code",
   "execution_count": 5,
   "metadata": {},
   "outputs": [],
   "source": [
    "predictions_df.to_csv('results.csv', index=False)"
   ]
  }
 ],
 "metadata": {
  "kernelspec": {
   "display_name": "py310",
   "language": "python",
   "name": "python3"
  },
  "language_info": {
   "codemirror_mode": {
    "name": "ipython",
    "version": 3
   },
   "file_extension": ".py",
   "mimetype": "text/x-python",
   "name": "python",
   "nbconvert_exporter": "python",
   "pygments_lexer": "ipython3",
   "version": "3.10.13"
  }
 },
 "nbformat": 4,
 "nbformat_minor": 2
}
